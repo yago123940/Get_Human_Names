{
 "cells": [
  {
   "cell_type": "code",
   "execution_count": 1,
   "id": "e3e03d27-8b20-499c-8390-63ef4ec4ded0",
   "metadata": {},
   "outputs": [],
   "source": [
    "import nltk\n",
    "from nameparser.parser import HumanName\n",
    "\n",
    "def get_human_names(text):\n",
    "    tokens = nltk.tokenize.word_tokenize(text, language='portuguese')\n",
    "    pos = nltk.pos_tag(tokens)\n",
    "    sentt = nltk.ne_chunk(pos, binary = False)\n",
    "    person_list = []\n",
    "    person = []\n",
    "    name = \"\"\n",
    "    for subtree in sentt.subtrees(filter=lambda t: t.label() == 'PERSON'):\n",
    "        for leaf in subtree.leaves():\n",
    "            person.append(leaf[0])\n",
    "        if len(person) > 1: #avoid grabbing lone surnames\n",
    "            for part in person:\n",
    "                name += part + ' '\n",
    "            if name[:-1] not in person_list:\n",
    "                person_list.append(name[:-1])\n",
    "            name = ''\n",
    "        person = []\n",
    "\n",
    "    return (person_list)"
   ]
  },
  {
   "cell_type": "code",
   "execution_count": 10,
   "id": "01032244-d022-498e-b1eb-8ecd149e5412",
   "metadata": {},
   "outputs": [],
   "source": [
    "text = \"\"\"\n",
    "VAUDICELIA DOS SANTOS\n",
    "OAB/MG 192.085\n",
    "EXCELENTÍSSIMO SENHOR DOUTOR JUIZ DE DIREITO DA\n",
    "CÍVEL DA COMARCA DE SÃO PAULO - sp. VARA\n",
    "ALTAMIRO PEREIRA DE MELO, brasileiro, casado, portador da carteira\n",
    "de identidade no 29329172 X, inscrito no CPF/MG sob 0 110585.901.026-\n",
    "53, residente e domiciliado na Rua Doninha 77 CS, São Cristóvão, Betim\n",
    "CEP: 32676-660, por sua advogada que abaixo assina, conforme\n",
    "procuração judicial regularmente juntada, com escritório profissional\n",
    "sediado na Rua Juiz de Fora, 115, sala 407, Barro Preto- Belo Horizonte-\n",
    "30180-060, vem perante Vossa Excelência, com fundamento no artigo\n",
    "319, \"caput\" e seguintes, todos do Código de Processo Civil, propor a\n",
    "presente\n",
    "\"\"\"\n",
    "\n",
    "text = text.strip().replace('\\n','')"
   ]
  },
  {
   "cell_type": "code",
   "execution_count": 11,
   "id": "ca9fec1e-5027-40c1-9eba-d58e9ce899c8",
   "metadata": {},
   "outputs": [
    {
     "name": "stdout",
     "output_type": "stream",
     "text": [
      "VAUDICELIA DOS SANTOSOAB/MG 192.085EXCELENTÍSSIMO SENHOR DOUTOR JUIZ DE DIREITO DACÍVEL DA COMARCA DE SÃO PAULO - sp. VARAALTAMIRO PEREIRA DE MELO, brasileiro, casado, portador da carteirade identidade no 29329172 X, inscrito no CPF/MG sob 0 110585.901.026-53, residente e domiciliado na Rua Doninha 77 CS, São Cristóvão, BetimCEP: 32676-660, por sua advogada que abaixo assina, conformeprocuração judicial regularmente juntada, com escritório profissionalsediado na Rua Juiz de Fora, 115, sala 407, Barro Preto- Belo Horizonte-30180-060, vem perante Vossa Excelência, com fundamento no artigo319, \"caput\" e seguintes, todos do Código de Processo Civil, propor apresente\n"
     ]
    }
   ],
   "source": [
    "print(text)"
   ]
  },
  {
   "cell_type": "code",
   "execution_count": 12,
   "id": "2e0974be-749b-4c55-8572-b57da7cfe928",
   "metadata": {},
   "outputs": [],
   "source": [
    "#nltk.download()"
   ]
  },
  {
   "cell_type": "code",
   "execution_count": 13,
   "id": "2406f2f6-de3c-4064-b78e-f0014559d6da",
   "metadata": {},
   "outputs": [
    {
     "name": "stdout",
     "output_type": "stream",
     "text": [
      "LAST, FIRST\n",
      "Doninha, Rua\n",
      "Cristóvão, São\n",
      "Juiz, Rua\n",
      "Excelência, Vossa\n",
      "Civil, Processo\n"
     ]
    }
   ],
   "source": [
    "names = get_human_names(text)\n",
    "print(\"LAST, FIRST\")\n",
    "\n",
    "for name in names:\n",
    "    last_first = HumanName(name).last + ', ' + HumanName(name).first\n",
    "    print(last_first)"
   ]
  },
  {
   "cell_type": "code",
   "execution_count": null,
   "id": "ed78ab97-7006-4910-b425-25938c482ac9",
   "metadata": {},
   "outputs": [],
   "source": []
  }
 ],
 "metadata": {
  "kernelspec": {
   "display_name": "Python 3 (ipykernel)",
   "language": "python",
   "name": "python3"
  },
  "language_info": {
   "codemirror_mode": {
    "name": "ipython",
    "version": 3
   },
   "file_extension": ".py",
   "mimetype": "text/x-python",
   "name": "python",
   "nbconvert_exporter": "python",
   "pygments_lexer": "ipython3",
   "version": "3.9.7"
  }
 },
 "nbformat": 4,
 "nbformat_minor": 5
}
