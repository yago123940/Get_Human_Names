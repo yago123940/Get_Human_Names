{
 "cells": [
  {
   "cell_type": "code",
   "execution_count": 30,
   "id": "e3e03d27-8b20-499c-8390-63ef4ec4ded0",
   "metadata": {},
   "outputs": [],
   "source": [
    "import nltk\n",
    "from nameparser.parser import HumanName\n",
    "\n",
    "def get_human_names(text):\n",
    "    tokens = nltk.tokenize.word_tokenize(text)\n",
    "    pos = nltk.pos_tag(tokens)\n",
    "    sentt = nltk.ne_chunk(pos, binary = False)\n",
    "    person_list = []\n",
    "    person = []\n",
    "    name = \"\"\n",
    "    for subtree in sentt.subtrees(filter=lambda t: t.label() == 'PERSON'):\n",
    "        for leaf in subtree.leaves():\n",
    "            person.append(leaf[0])\n",
    "        if len(person) > 1: #avoid grabbing lone surnames\n",
    "            for part in person:\n",
    "                name += part + ' '\n",
    "            if name[:-1] not in person_list:\n",
    "                person_list.append(name[:-1])\n",
    "            name = ''\n",
    "        person = []\n",
    "\n",
    "    return (person_list)"
   ]
  },
  {
   "cell_type": "code",
   "execution_count": 31,
   "id": "01032244-d022-498e-b1eb-8ecd149e5412",
   "metadata": {},
   "outputs": [],
   "source": [
    "text = \"\"\"\n",
    "Some economists have responded positively to Bitcoin, including \n",
    "Francois R. Velde, senior economist of the Federal Reserve in Chicago \n",
    "who described it as \"an elegant solution to the problem of creating a \n",
    "digital currency.\" In November 2013 Richard Branson announced that \n",
    "Virgin Galactic would accept Bitcoin as payment, saying that he had invested \n",
    "in Bitcoin and found it \"fascinating how a whole new global currency \n",
    "has been created\", encouraging others to also invest in Bitcoin.\n",
    "Other economists commenting on Bitcoin have been critical. \n",
    "Economist Paul Krugman has suggested that the structure of the currency \n",
    "incentivizes hoarding and that its value derives from the expectation that \n",
    "others will accept it as payment. Economist Larry Summers has expressed \n",
    "a \"wait and see\" attitude when it comes to Bitcoin. Nick Colas, a market \n",
    "strategist for ConvergEx Group, has remarked on the effect of increasing \n",
    "use of Bitcoin and its restricted supply, noting, \"When incremental \n",
    "adoption meets relatively fixed supply, it should be no surprise that \n",
    "prices go up. And that’s exactly what is happening to BTC prices.\n",
    "\"\"\"\n",
    "\n",
    "text = text.strip()"
   ]
  },
  {
   "cell_type": "code",
   "execution_count": 32,
   "id": "ca9fec1e-5027-40c1-9eba-d58e9ce899c8",
   "metadata": {},
   "outputs": [
    {
     "name": "stdout",
     "output_type": "stream",
     "text": [
      "Some economists have responded positively to Bitcoin, including \n",
      "Francois R. Velde, senior economist of the Federal Reserve in Chicago \n",
      "who described it as \"an elegant solution to the problem of creating a \n",
      "digital currency.\" In November 2013 Richard Branson announced that \n",
      "Virgin Galactic would accept Bitcoin as payment, saying that he had invested \n",
      "in Bitcoin and found it \"fascinating how a whole new global currency \n",
      "has been created\", encouraging others to also invest in Bitcoin.\n",
      "Other economists commenting on Bitcoin have been critical. \n",
      "Economist Paul Krugman has suggested that the structure of the currency \n",
      "incentivizes hoarding and that its value derives from the expectation that \n",
      "others will accept it as payment. Economist Larry Summers has expressed \n",
      "a \"wait and see\" attitude when it comes to Bitcoin. Nick Colas, a market \n",
      "strategist for ConvergEx Group, has remarked on the effect of increasing \n",
      "use of Bitcoin and its restricted supply, noting, \"When incremental \n",
      "adoption meets relatively fixed supply, it should be no surprise that \n",
      "prices go up. And that’s exactly what is happening to BTC prices.\n"
     ]
    }
   ],
   "source": [
    "print(text)"
   ]
  },
  {
   "cell_type": "code",
   "execution_count": null,
   "id": "2e0974be-749b-4c55-8572-b57da7cfe928",
   "metadata": {},
   "outputs": [],
   "source": [
    "nltk.download()"
   ]
  },
  {
   "cell_type": "code",
   "execution_count": 33,
   "id": "2406f2f6-de3c-4064-b78e-f0014559d6da",
   "metadata": {},
   "outputs": [
    {
     "name": "stdout",
     "output_type": "stream",
     "text": [
      "LAST, FIRST\n",
      "Velde, Francois\n",
      "Branson, Richard\n",
      "Galactic, Virgin\n",
      "Krugman, Paul\n",
      "Summers, Larry\n",
      "Colas, Nick\n"
     ]
    }
   ],
   "source": [
    "names = get_human_names(text)\n",
    "print(\"LAST, FIRST\")\n",
    "\n",
    "for name in names:\n",
    "    last_first = HumanName(name).last + ', ' + HumanName(name).first\n",
    "    print(last_first)"
   ]
  },
  {
   "cell_type": "code",
   "execution_count": null,
   "id": "ed78ab97-7006-4910-b425-25938c482ac9",
   "metadata": {},
   "outputs": [],
   "source": []
  }
 ],
 "metadata": {
  "kernelspec": {
   "display_name": "Python 3 (ipykernel)",
   "language": "python",
   "name": "python3"
  },
  "language_info": {
   "codemirror_mode": {
    "name": "ipython",
    "version": 3
   },
   "file_extension": ".py",
   "mimetype": "text/x-python",
   "name": "python",
   "nbconvert_exporter": "python",
   "pygments_lexer": "ipython3",
   "version": "3.9.7"
  }
 },
 "nbformat": 4,
 "nbformat_minor": 5
}
