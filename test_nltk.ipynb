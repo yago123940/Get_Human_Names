{
 "cells": [
  {
   "cell_type": "code",
   "execution_count": 7,
   "id": "c134d88c-50ec-4b5a-879e-92b736ce52a2",
   "metadata": {},
   "outputs": [
    {
     "name": "stdout",
     "output_type": "stream",
     "text": [
      "['Estamos aprendendo a usar essa biblioteca.', 'Esperamos sair deste tutorial sabendo o básico.', 'Bons estudos a todos!']\n"
     ]
    }
   ],
   "source": [
    "import nltk\n",
    "from nltk.tokenize import sent_tokenize\n",
    "\n",
    "text='Estamos aprendendo a usar essa biblioteca. Esperamos sair deste tutorial sabendo o básico. Bons estudos a todos!'\n",
    "print(sent_tokenize(text, 'portuguese'))\n"
   ]
  },
  {
   "cell_type": "code",
   "execution_count": null,
   "id": "24ac2157-a869-464b-af0f-a4b8c87e48ac",
   "metadata": {},
   "outputs": [],
   "source": []
  }
 ],
 "metadata": {
  "kernelspec": {
   "display_name": "Python 3 (ipykernel)",
   "language": "python",
   "name": "python3"
  },
  "language_info": {
   "codemirror_mode": {
    "name": "ipython",
    "version": 3
   },
   "file_extension": ".py",
   "mimetype": "text/x-python",
   "name": "python",
   "nbconvert_exporter": "python",
   "pygments_lexer": "ipython3",
   "version": "3.9.7"
  }
 },
 "nbformat": 4,
 "nbformat_minor": 5
}
